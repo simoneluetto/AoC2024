{
 "cells": [
  {
   "cell_type": "code",
   "execution_count": null,
   "metadata": {},
   "outputs": [],
   "source": [
    "import numpy as np\n",
    "import tqdm"
   ]
  },
  {
   "cell_type": "code",
   "execution_count": null,
   "metadata": {},
   "outputs": [],
   "source": [
    "file = './9.txt'\n",
    "lines = open(file, 'r').readlines()\n",
    "lines = [l.strip('\\n') for l in lines]\n",
    "print(len(lines))"
   ]
  },
  {
   "cell_type": "code",
   "execution_count": null,
   "metadata": {},
   "outputs": [],
   "source": [
    "file_sizes = {}\n",
    "is_file=True\n",
    "file_storage = []\n",
    "for el in lines[0]:\n",
    "    if is_file:\n",
    "        file_id = len(file_sizes)\n",
    "        file_dim = int(el)\n",
    "        file_sizes[file_id] = file_dim\n",
    "        file_storage = file_storage + ([file_id]*file_dim)\n",
    "        is_file=False\n",
    "    else:\n",
    "        free_dim = int(el)\n",
    "        file_storage = file_storage + (['.']*free_dim)\n",
    "        is_file = True\n",
    "\n",
    "print(len(file_sizes))\n",
    "print(len(file_storage))\n"
   ]
  },
  {
   "cell_type": "code",
   "execution_count": null,
   "metadata": {},
   "outputs": [],
   "source": [
    "print(len([e for e in file_storage if e!='.']))\n",
    "print(len([e for e in file_storage if e=='.']))"
   ]
  },
  {
   "cell_type": "code",
   "execution_count": null,
   "metadata": {},
   "outputs": [],
   "source": [
    "new_file_storage = []\n",
    "moved = len(file_storage)\n",
    "frees = []\n",
    "for pos, el in enumerate(file_storage):\n",
    "    if pos>=moved:\n",
    "        break\n",
    "    if el != '.':\n",
    "        new_file_storage.append(el)\n",
    "    else:\n",
    "        to_move=True\n",
    "        frees.append('.')\n",
    "        while to_move:\n",
    "            moved = moved-1\n",
    "            if pos>=moved:\n",
    "                print(f'interrupting the fill at {pos}, {moved}, {el}, {new_file_storage[pos]}')\n",
    "                break\n",
    "            if file_storage[moved] != '.':\n",
    "                new_file_storage.append(file_storage[moved])\n",
    "                to_move=False\n",
    "            else:\n",
    "                frees.append('.')\n",
    "\n",
    "print(len(new_file_storage))\n",
    "new_file_storage = new_file_storage + frees\n",
    "print(len(new_file_storage))\n",
    "\n",
    "checksum=0\n",
    "for pos, val in enumerate(new_file_storage):\n",
    "    if val != '.':\n",
    "        checksum = checksum + (pos*val)\n",
    "print(checksum)"
   ]
  },
  {
   "cell_type": "code",
   "execution_count": null,
   "metadata": {},
   "outputs": [],
   "source": [
    "file_sizes = {}\n",
    "free_sizes = {}\n",
    "is_file=True\n",
    "file_storage=[]\n",
    "for el in lines[0]:\n",
    "    if is_file:\n",
    "        file_id = len(file_sizes)\n",
    "        file_dim = int(el)\n",
    "        file_sizes[file_id] = file_dim\n",
    "        file_storage = file_storage + ([file_id]*file_dim)\n",
    "        is_file=False\n",
    "    else:\n",
    "        free_id = len(free_sizes)\n",
    "        free_dim = int(el)\n",
    "        free_sizes[free_id] = free_dim\n",
    "        file_storage = file_storage + (['.']*free_dim)\n",
    "        is_file = True\n",
    "\n",
    "print(len(file_sizes))\n",
    "print(len(free_sizes))\n",
    "print(len(file_storage))\n",
    "\n",
    "or_file_sizes = file_sizes.copy()\n",
    "or_free_sizes = free_sizes.copy()\n",
    "or_file_storage = file_storage.copy()"
   ]
  },
  {
   "cell_type": "code",
   "execution_count": null,
   "metadata": {},
   "outputs": [],
   "source": [
    "list(range(10, 0, -1))"
   ]
  },
  {
   "cell_type": "code",
   "execution_count": null,
   "metadata": {},
   "outputs": [],
   "source": [
    "curr_idx = len(file_sizes)-1\n",
    "\n",
    "file_sizes = or_file_sizes.copy()\n",
    "free_sizes = or_free_sizes.copy()\n",
    "file_storage = or_file_storage.copy()\n",
    "\n",
    "moved_file_pos = {}\n",
    "pos_files_moved = {}\n",
    "# for _ in range(len(file_sizes)):\n",
    "for curr_idx in range(len(file_sizes)-1, -1, -1):\n",
    "    for free_id in range(0,curr_idx):\n",
    "        if free_sizes[free_id]>=file_sizes[curr_idx]:\n",
    "            # print(f'moving file {curr_idx} in free space {free_id}, {free_sizes[free_id]}>={file_sizes[curr_idx]}')\n",
    "            moved_file_pos[curr_idx] = free_id\n",
    "            if free_id in pos_files_moved:\n",
    "                pos_files_moved[free_id].append(curr_idx)\n",
    "            else:\n",
    "                pos_files_moved[free_id] = [curr_idx]\n",
    "            pos_files_moved[free_id]\n",
    "            free_sizes[free_id] = free_sizes[free_id]-file_sizes[curr_idx]\n",
    "            # curr_idx = curr_idx-1\n",
    "            break\n",
    "        # else:\n",
    "        #     print(f'cannot move file {curr_idx} in free space {free_id}, {free_sizes[free_id]}<{file_sizes[curr_idx]}')\n",
    "\n",
    "print(len(moved_file_pos))\n",
    "print(len(pos_files_moved))\n",
    "print(curr_idx)\n",
    "print(free_id)"
   ]
  },
  {
   "cell_type": "code",
   "execution_count": null,
   "metadata": {},
   "outputs": [],
   "source": [
    "min_moved_file = min(moved_file_pos.keys())\n",
    "print(min_moved_file)\n",
    "for i in range(min_moved_file-5, min_moved_file+5):\n",
    "    print(f'file {i}:')\n",
    "    print(f'size file {file_sizes[i]}:')\n",
    "    print(f'size free {free_sizes[i]}:')\n",
    "    if i in moved_file_pos:\n",
    "        print(f'moved to : {moved_file_pos[i]}')\n",
    "# print([(i, moved_file_pos[i], file_sizes[i], free_sizes[i]) for i in range(max_moved_file-5, max_moved_file+1)])"
   ]
  },
  {
   "cell_type": "code",
   "execution_count": null,
   "metadata": {},
   "outputs": [],
   "source": [
    "new_file_storage = []\n",
    "for i in range(len(file_sizes)):\n",
    "    if i not in moved_file_pos.keys():\n",
    "        new_file_storage += ([i]*file_sizes[i])\n",
    "    else:\n",
    "        new_file_storage += (['.']*file_sizes[i])\n",
    "    if i in pos_files_moved:\n",
    "        for j in pos_files_moved[i]:\n",
    "            new_file_storage += ([j]*file_sizes[j])\n",
    "    if i in free_sizes:\n",
    "        new_file_storage += (['.']*free_sizes[i])\n",
    "\n",
    "checksum=0\n",
    "for pos, val in enumerate(new_file_storage):\n",
    "    if val != '.':\n",
    "        checksum = checksum + (pos*val)\n",
    "print(checksum)"
   ]
  },
  {
   "cell_type": "code",
   "execution_count": null,
   "metadata": {},
   "outputs": [],
   "source": [
    "print(len(file_storage))\n",
    "print(len(new_file_storage))"
   ]
  },
  {
   "cell_type": "code",
   "execution_count": null,
   "metadata": {},
   "outputs": [],
   "source": [
    "print(lines[0][:10])\n",
    "print(lines[0][-10:])\n",
    "\n",
    "print('\\n')\n",
    "print(pos_files_moved)\n",
    "print(moved_file_pos)\n",
    "print(free_sizes)\n",
    "\n",
    "print('\\n')\n",
    "print(file_storage[36450:36520])\n",
    "print(new_file_storage[36450:36520])\n",
    "\n",
    "print('\\n')\n",
    "print(file_storage[-50:])\n",
    "print(new_file_storage[-50:])\n",
    "\n",
    "print('\\n')\n",
    "print(file_storage[45700:45800])\n",
    "print(new_file_storage[45700:45800])"
   ]
  },
  {
   "cell_type": "code",
   "execution_count": null,
   "metadata": {},
   "outputs": [],
   "source": [
    "for i in range(3832,3840):\n",
    "    print(f'file {i}:')\n",
    "    print(f'size file {file_sizes[i]}:')\n",
    "    print(f'size free {free_sizes[i]}:')\n",
    "    if i in moved_file_pos:\n",
    "        print(f'this file moved to : {moved_file_pos[i]}')\n",
    "    if i in pos_files_moved:\n",
    "        print(f'files moved to this free : {pos_files_moved[i]}')\n",
    "        print(f'with sizes : {[file_sizes[j] for j in pos_files_moved[i]]}')"
   ]
  }
 ],
 "metadata": {
  "kernelspec": {
   "display_name": "bis",
   "language": "python",
   "name": "python3"
  },
  "language_info": {
   "codemirror_mode": {
    "name": "ipython",
    "version": 3
   },
   "file_extension": ".py",
   "mimetype": "text/x-python",
   "name": "python",
   "nbconvert_exporter": "python",
   "pygments_lexer": "ipython3",
   "version": "3.8.5"
  }
 },
 "nbformat": 4,
 "nbformat_minor": 2
}
