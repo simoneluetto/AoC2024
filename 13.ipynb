{
 "cells": [
  {
   "cell_type": "code",
   "execution_count": null,
   "metadata": {},
   "outputs": [],
   "source": [
    "import numpy as np\n",
    "import tqdm"
   ]
  },
  {
   "cell_type": "code",
   "execution_count": null,
   "metadata": {},
   "outputs": [],
   "source": [
    "file = './13.txt'\n",
    "lines = open(file, 'r').readlines()\n",
    "lines = [l.strip('\\n') for l in lines]\n"
   ]
  },
  {
   "cell_type": "code",
   "execution_count": null,
   "metadata": {},
   "outputs": [],
   "source": [
    "machines_dict = {}\n",
    "machines = []\n",
    "machine_id = 0\n",
    "for line in lines:\n",
    "    if machine_id not in machines_dict:\n",
    "        machines_dict[machine_id] = {}\n",
    "    if 'Button A' in line:\n",
    "        line = line.strip('Button A:').strip(' ').split(',')\n",
    "        move_x = int(line[0].strip(' ').strip('X+'))\n",
    "        move_y = int(line[1].strip(' ').strip('Y+'))\n",
    "        machines_dict[machine_id]['A'] = (move_x, move_y)\n",
    "    elif 'Button B' in line:\n",
    "        line = line.strip('Button B:').strip(' ').split(',')\n",
    "        move_x = int(line[0].strip(' ').strip('X+'))\n",
    "        move_y = int(line[1].strip(' ').strip('Y+'))\n",
    "        machines_dict[machine_id]['B'] = (move_x, move_y)\n",
    "    elif 'Prize' in line:\n",
    "        line = line.strip('Prize:').strip(' ').split(',')\n",
    "        prize_x = int(line[0].strip(' ').strip('X=')) \n",
    "        prize_y = int(line[1].strip(' ').strip('Y='))\n",
    "        machines_dict[machine_id]['result'] = (prize_x, prize_y)\n",
    "        machine_id += 1\n",
    "\n",
    "print(len(machines_dict))\n",
    "print(machines_dict)\n",
    "machines = [(v['A'][0], v['A'][1], v['B'][0], v['B'][1], v['result'][0], v['result'][1]) for v in machines_dict.values()]\n",
    "print(machines)\n"
   ]
  },
  {
   "cell_type": "code",
   "execution_count": null,
   "metadata": {},
   "outputs": [],
   "source": [
    "res = {}\n",
    "\n",
    "for idx, machine in enumerate(machines):\n",
    "    min_tokens = 401\n",
    "    sol='No'\n",
    "    for i in range(100):\n",
    "        for j in range(100):\n",
    "            resx = machine[0]*i + machine[2]*j\n",
    "            resy = machine[1]*i + machine[3]*j\n",
    "            if resx==machine[4] and resy==machine[5]:\n",
    "                tok = 3*i + j\n",
    "                if tok<min_tokens:\n",
    "                    min_tokens = tok\n",
    "                    sol = (i,j)\n",
    "    res[idx] = (sol, min_tokens)\n",
    "\n",
    "print(res)\n",
    "print(sum([r[1] for r in res.values() if r[0]!='No']))"
   ]
  },
  {
   "cell_type": "code",
   "execution_count": null,
   "metadata": {},
   "outputs": [],
   "source": [
    "res = {}\n",
    "const = 10000000000000\n",
    "for idx, machine in enumerate(machines):\n",
    "    totx = machine[4]+const\n",
    "    toty = machine[5]+const\n",
    "    min_tokens = 0\n",
    "    sol='No'\n",
    "    i = 0\n",
    "\n",
    "    # print(f'Bx=By -> ({totx}-{machine[0]}*A)/{machine[2]} = ({toty}-{machine[1]}*A)/{machine[3]}')\n",
    "    # print(f'({machine[3]}{totx}-{machine[3]}{machine[0]}*A) = ({machine[2]}{toty}-{machine[2]}{machine[1]}*A)')\n",
    "    # print(f'({machine[3]}{totx}-{machine[2]}{toty})=({machine[3]}{machine[0]}*A-{machine[2]}{machine[1]}*A)')\n",
    "    # print(f'A=({machine[3]}{totx}-{machine[2]}{toty})/({machine[3]}{machine[0]}-{machine[2]}{machine[1]})')\n",
    "    # print(f'A={(machine[3]*totx-machine[2]*toty)/(machine[3]*machine[0]-machine[2]*machine[1])}')\n",
    "    A = (machine[3]*totx-machine[2]*toty)/(machine[3]*machine[0]-machine[2]*machine[1])\n",
    "    if A.is_integer():\n",
    "        B = (totx-machine[0]*A)/machine[2]\n",
    "        sol = (int(A),int(B))\n",
    "        min_tokens = int(3*A+B)\n",
    "    res[idx] = (sol, min_tokens)\n",
    "\n",
    "print(res)\n",
    "print(len([r[1] for r in res.values() if r[0]!='No']))\n",
    "print(sum([r[1] for r in res.values() if r[0]!='No']))"
   ]
  }
 ],
 "metadata": {
  "kernelspec": {
   "display_name": "bis",
   "language": "python",
   "name": "python3"
  },
  "language_info": {
   "codemirror_mode": {
    "name": "ipython",
    "version": 3
   },
   "file_extension": ".py",
   "mimetype": "text/x-python",
   "name": "python",
   "nbconvert_exporter": "python",
   "pygments_lexer": "ipython3",
   "version": "3.12.3"
  }
 },
 "nbformat": 4,
 "nbformat_minor": 2
}
