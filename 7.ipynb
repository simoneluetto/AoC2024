{
 "cells": [
  {
   "cell_type": "code",
   "execution_count": null,
   "metadata": {},
   "outputs": [],
   "source": [
    "import numpy as np\n",
    "import tqdm"
   ]
  },
  {
   "cell_type": "code",
   "execution_count": null,
   "metadata": {},
   "outputs": [],
   "source": [
    "file = './7.txt'\n",
    "lines = open(file, 'r').readlines()\n",
    "# lines"
   ]
  },
  {
   "cell_type": "code",
   "execution_count": null,
   "metadata": {},
   "outputs": [],
   "source": [
    "equations = []\n",
    "for line in lines:\n",
    "    value, numbers = line.strip('\\n').split(':')\n",
    "    value = int(value)\n",
    "    numbers = [int(n) for n in numbers.strip(' ').split(' ')]\n",
    "    equations.append((value, numbers))\n",
    "print(len(equations))\n",
    "print(equations[:10])\n",
    "print(max([len(numbers) for v, numbers in equations]))\n"
   ]
  },
  {
   "cell_type": "code",
   "execution_count": null,
   "metadata": {},
   "outputs": [],
   "source": [
    "max_len = max([len(numbers) for v, numbers in equations])\n",
    "operator_combinations = {\n",
    "    2: [['+'],['*']],\n",
    "    3: [['+','+'],['+','*'],['*','+'],['*','*']],\n",
    "}\n",
    "for i in range(4, max_len+1):\n",
    "    ops = []\n",
    "    for old_op in operator_combinations[i-1]:\n",
    "        new_op_plus = old_op.copy()\n",
    "        new_op_plus.append('+')\n",
    "        new_op_prod = old_op.copy()\n",
    "        new_op_prod.append('*')\n",
    "        ops.append(new_op_plus)\n",
    "        ops.append(new_op_prod)\n",
    "    operator_combinations[i] = ops\n",
    "\n",
    "print({k: len(v) for k, v in operator_combinations.items()})"
   ]
  },
  {
   "cell_type": "code",
   "execution_count": null,
   "metadata": {},
   "outputs": [],
   "source": [
    "def compute_res(numbers, operations):\n",
    "    \n",
    "    actual_res = numbers[0]\n",
    "    for i, op in enumerate(operations):\n",
    "        if op=='+':\n",
    "            actual_res = actual_res+numbers[i+1]\n",
    "        else:\n",
    "            actual_res = actual_res*numbers[i+1] \n",
    "    return actual_res\n",
    "\n",
    "doable_numbers = []\n",
    "for value, numbers in tqdm.tqdm(equations):\n",
    "    doable = False\n",
    "    for op_comb in operator_combinations[len(numbers)]:\n",
    "        res = compute_res(numbers, op_comb)\n",
    "        if res==value:\n",
    "            doable=True\n",
    "    if doable:\n",
    "        doable_numbers.append(value)\n",
    "\n",
    "print(len(doable_numbers))\n",
    "print(sum(doable_numbers))"
   ]
  },
  {
   "cell_type": "code",
   "execution_count": null,
   "metadata": {},
   "outputs": [],
   "source": [
    "max_len = max([len(numbers) for v, numbers in equations])\n",
    "operator_combinations = {\n",
    "    2: [['+'],['*'],['|']],\n",
    "}\n",
    "for i in range(3, max_len+1):\n",
    "    ops = []\n",
    "    for old_op in operator_combinations[i-1]:\n",
    "        new_op_plus = old_op.copy()\n",
    "        new_op_plus.append('+')\n",
    "        new_op_prod = old_op.copy()\n",
    "        new_op_prod.append('*')\n",
    "        new_op_cat = old_op.copy()\n",
    "        new_op_cat.append('|')\n",
    "        ops.append(new_op_plus)\n",
    "        ops.append(new_op_prod)\n",
    "        ops.append(new_op_cat)\n",
    "    operator_combinations[i] = ops\n",
    "\n",
    "print({k: len(v) for k, v in operator_combinations.items()})"
   ]
  },
  {
   "cell_type": "code",
   "execution_count": null,
   "metadata": {},
   "outputs": [],
   "source": [
    "def compute_res(numbers, operations):\n",
    "    \n",
    "    actual_res = numbers[0]\n",
    "    for i, op in enumerate(operations):\n",
    "        if op=='+':\n",
    "            actual_res = actual_res+numbers[i+1]\n",
    "        elif op=='*':\n",
    "            actual_res = actual_res*numbers[i+1]\n",
    "        else:\n",
    "            actual_res = int(str(actual_res)+str(numbers[i+1]))\n",
    "    return actual_res\n",
    "\n",
    "doable_numbers = []\n",
    "for value, numbers in tqdm.tqdm(equations):\n",
    "    doable = False\n",
    "    for op_comb in operator_combinations[len(numbers)]:\n",
    "        res = compute_res(numbers, op_comb)\n",
    "        if res==value:\n",
    "            doable=True\n",
    "    if doable:\n",
    "        doable_numbers.append(value)\n",
    "\n",
    "print(len(doable_numbers))\n",
    "print(sum(doable_numbers))"
   ]
  }
 ],
 "metadata": {
  "kernelspec": {
   "display_name": "bis",
   "language": "python",
   "name": "python3"
  },
  "language_info": {
   "codemirror_mode": {
    "name": "ipython",
    "version": 3
   },
   "file_extension": ".py",
   "mimetype": "text/x-python",
   "name": "python",
   "nbconvert_exporter": "python",
   "pygments_lexer": "ipython3",
   "version": "3.8.5"
  }
 },
 "nbformat": 4,
 "nbformat_minor": 2
}
