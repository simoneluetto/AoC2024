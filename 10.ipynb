{
 "cells": [
  {
   "cell_type": "code",
   "execution_count": null,
   "metadata": {},
   "outputs": [],
   "source": [
    "import numpy as np\n",
    "import tqdm"
   ]
  },
  {
   "cell_type": "code",
   "execution_count": null,
   "metadata": {},
   "outputs": [],
   "source": [
    "file = './10.txt'\n",
    "lines = open(file, 'r').readlines()\n",
    "lines = [l.strip('\\n') for l in lines]\n"
   ]
  },
  {
   "cell_type": "code",
   "execution_count": null,
   "metadata": {},
   "outputs": [],
   "source": [
    "map = []\n",
    "for line in lines:\n",
    "    values = [int(n) for n in line]\n",
    "    map.append(values)\n",
    "\n",
    "map = np.array(map)\n",
    "print(map.shape)\n",
    "print(len(np.argwhere(map==0)))\n",
    "print(len(np.argwhere(map==9)))\n",
    "print(map)\n",
    "\n",
    "map = np.pad(map, 1, mode='constant', constant_values=-1)\n",
    "print(map.shape)\n",
    "print(map)\n"
   ]
  },
  {
   "cell_type": "code",
   "execution_count": null,
   "metadata": {},
   "outputs": [],
   "source": [
    "starting_pos = np.argwhere(map==0)\n",
    "starting_pos = [tuple(pos) for pos in starting_pos]\n",
    "print(starting_pos)\n",
    "all_trails = {}\n",
    "for start in tqdm.tqdm(starting_pos):\n",
    "    trails = []\n",
    "    reached_pos = [start]\n",
    "    current_height = 0\n",
    "    while current_height<9:\n",
    "\n",
    "        new_reached_pos = []\n",
    "        for pos in reached_pos:\n",
    "            if map[pos[0]-1,pos[1]] == current_height+1:\n",
    "                new_reached_pos.append((pos[0]-1,pos[1]))\n",
    "            if map[pos[0]+1,pos[1]] == current_height+1:\n",
    "                new_reached_pos.append((pos[0]+1,pos[1]))\n",
    "            if map[pos[0],pos[1]-1] == current_height+1:\n",
    "                new_reached_pos.append((pos[0],pos[1]-1))\n",
    "            if map[pos[0],pos[1]+1] == current_height+1:\n",
    "                new_reached_pos.append((pos[0],pos[1]+1))\n",
    "        current_height += 1\n",
    "        reached_pos = new_reached_pos\n",
    "    diff_trails = set(reached_pos)\n",
    "    all_trails[start] = diff_trails\n",
    "\n",
    "print(len(all_trails))\n",
    "print(sum([len(v) for k, v in all_trails.items()]))"
   ]
  },
  {
   "cell_type": "code",
   "execution_count": null,
   "metadata": {},
   "outputs": [],
   "source": [
    "starting_pos = np.argwhere(map==0)\n",
    "starting_pos = [tuple(pos) for pos in starting_pos]\n",
    "print(starting_pos)\n",
    "all_trails = {}\n",
    "for start in tqdm.tqdm(starting_pos):\n",
    "    trails = []\n",
    "    reached_pos = [start]\n",
    "    current_height = 0\n",
    "    while current_height<9:\n",
    "\n",
    "        new_reached_pos = []\n",
    "        for pos in reached_pos:\n",
    "            if map[pos[0]-1,pos[1]] == current_height+1:\n",
    "                new_reached_pos.append((pos[0]-1,pos[1]))\n",
    "            if map[pos[0]+1,pos[1]] == current_height+1:\n",
    "                new_reached_pos.append((pos[0]+1,pos[1]))\n",
    "            if map[pos[0],pos[1]-1] == current_height+1:\n",
    "                new_reached_pos.append((pos[0],pos[1]-1))\n",
    "            if map[pos[0],pos[1]+1] == current_height+1:\n",
    "                new_reached_pos.append((pos[0],pos[1]+1))\n",
    "        current_height += 1\n",
    "        reached_pos = new_reached_pos\n",
    "    diff_trails = reached_pos.copy()\n",
    "    all_trails[start] = diff_trails\n",
    "\n",
    "print(len(all_trails))\n",
    "print(sum([len(v) for k, v in all_trails.items()]))"
   ]
  }
 ],
 "metadata": {
  "kernelspec": {
   "display_name": "bis",
   "language": "python",
   "name": "python3"
  },
  "language_info": {
   "codemirror_mode": {
    "name": "ipython",
    "version": 3
   },
   "file_extension": ".py",
   "mimetype": "text/x-python",
   "name": "python",
   "nbconvert_exporter": "python",
   "pygments_lexer": "ipython3",
   "version": "3.8.5"
  }
 },
 "nbformat": 4,
 "nbformat_minor": 2
}
