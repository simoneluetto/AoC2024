{
 "cells": [
  {
   "cell_type": "code",
   "execution_count": null,
   "metadata": {},
   "outputs": [],
   "source": [
    "import numpy as np\n",
    "import tqdm"
   ]
  },
  {
   "cell_type": "code",
   "execution_count": null,
   "metadata": {},
   "outputs": [],
   "source": [
    "file = './25.txt'\n",
    "lines = open(file, 'r').readlines()\n",
    "lines = [l.strip('\\n') for l in lines]\n",
    "print(len(lines))\n",
    "lines = [l for l in lines if len(l)==5]\n",
    "print(len(lines))\n"
   ]
  },
  {
   "cell_type": "code",
   "execution_count": null,
   "metadata": {},
   "outputs": [],
   "source": [
    "el_map = {'#':1,'.':0}\n",
    "keys = {}\n",
    "locks = {}\n",
    "k=0\n",
    "l=0\n",
    "curr = 'lock'\n",
    "for i in range(0,len(lines), 7):\n",
    "    curr_lines = lines[i:i+7]\n",
    "    curr_lines = np.array([[el_map[el] for el in line] for line in curr_lines])\n",
    "    if sum(curr_lines[0,:])==0:\n",
    "        hs = curr_lines.sum(axis=0)-1\n",
    "        keys[k] = hs\n",
    "        k+=1\n",
    "    elif sum(curr_lines[0,:])==5:\n",
    "        hs = curr_lines.sum(axis=0)-1\n",
    "        locks[l] = hs\n",
    "        l+=1\n",
    "    else:\n",
    "        raise ValueError(curr_lines)\n",
    "print(len(keys))\n",
    "print(len(locks))\n",
    "print(keys[0])\n",
    "print(locks[0])\n"
   ]
  },
  {
   "cell_type": "code",
   "execution_count": null,
   "metadata": {},
   "outputs": [],
   "source": [
    "couples = []\n",
    "for k, key in keys.items():\n",
    "    for l, lock in locks.items():\n",
    "        if (key+lock).max()<=5:\n",
    "            couples.append((k,l))\n",
    "print(len(couples))"
   ]
  }
 ],
 "metadata": {
  "kernelspec": {
   "display_name": "bis",
   "language": "python",
   "name": "python3"
  },
  "language_info": {
   "codemirror_mode": {
    "name": "ipython",
    "version": 3
   },
   "file_extension": ".py",
   "mimetype": "text/x-python",
   "name": "python",
   "nbconvert_exporter": "python",
   "pygments_lexer": "ipython3",
   "version": "3.12.3"
  }
 },
 "nbformat": 4,
 "nbformat_minor": 2
}
