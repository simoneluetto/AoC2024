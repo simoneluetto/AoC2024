{
 "cells": [
  {
   "cell_type": "code",
   "execution_count": null,
   "metadata": {},
   "outputs": [],
   "source": [
    "import numpy as np\n",
    "import tqdm"
   ]
  },
  {
   "cell_type": "code",
   "execution_count": null,
   "metadata": {},
   "outputs": [],
   "source": [
    "file = './5.txt'\n",
    "lines = open(file, 'r').readlines()\n",
    "# lines"
   ]
  },
  {
   "cell_type": "code",
   "execution_count": null,
   "metadata": {},
   "outputs": [],
   "source": [
    "rules = []\n",
    "updates = []\n",
    "for line in lines:\n",
    "    line = line.strip('\\n')\n",
    "    if '|' in line:\n",
    "        rules.append(((int(line.split('|')[0])), (int(line.split('|')[1]))))\n",
    "    if ',' in line:\n",
    "        updates.append([int(i) for i in line.split(',')])\n",
    "print(len(rules))\n",
    "print(len(updates))"
   ]
  },
  {
   "cell_type": "code",
   "execution_count": null,
   "metadata": {},
   "outputs": [],
   "source": [
    "tot = 0\n",
    "count = 0\n",
    "valids = []\n",
    "invalids = []\n",
    "for update in updates:\n",
    "\n",
    "    assert len(update)%2==1\n",
    "    middle = update[int((len(update)-1)/2)]\n",
    "    valid=True\n",
    "    for rule in rules:\n",
    "        if rule[0] in update and rule[1] in update:\n",
    "            if update.index(rule[0])>update.index(rule[1]):\n",
    "                # print(f'invalid, rule {rule} is broken in {update}')\n",
    "                valid=False\n",
    "    if valid:\n",
    "        # print(f'valid {update} summing {middle}')\n",
    "        tot += middle\n",
    "        count += 1\n",
    "        valids.append(update)\n",
    "    else:\n",
    "        invalids.append(update)\n",
    "print(tot)\n",
    "print(count)\n",
    "print(len(valids))\n",
    "print(len(invalids))\n"
   ]
  },
  {
   "cell_type": "code",
   "execution_count": null,
   "metadata": {},
   "outputs": [],
   "source": [
    "reordered_updates = []\n",
    "for update in tqdm.tqdm(invalids):\n",
    "    valid = False\n",
    "    while not valid:\n",
    "        valid = True\n",
    "        for rule in rules:\n",
    "            if rule[0] in update and rule[1] in update:\n",
    "                idx0, idx1 = update.index(rule[0]), update.index(rule[1])\n",
    "                if idx0>idx1:\n",
    "                    update[idx0] = rule[1]\n",
    "                    update[idx1] = rule[0]\n",
    "                    valid=False\n",
    "    reordered_updates.append(update)\n",
    "\n",
    "tot = 0\n",
    "count = 0\n",
    "valids = []\n",
    "invalids = []\n",
    "for update in reordered_updates:\n",
    "\n",
    "    assert len(update)%2==1\n",
    "    middle = update[int((len(update)-1)/2)]\n",
    "    valid=True\n",
    "    for rule in rules:\n",
    "        if rule[0] in update and rule[1] in update:\n",
    "            if update.index(rule[0])>update.index(rule[1]):\n",
    "                # print(f'invalid, rule {rule} is broken in {update}')\n",
    "                valid=False\n",
    "    if valid:\n",
    "        # print(f'valid {update} summing {middle}')\n",
    "        tot += middle\n",
    "        count += 1\n",
    "        valids.append(update)\n",
    "    else:\n",
    "        invalids.append(update)\n",
    "        \n",
    "print(tot)\n",
    "print(count)\n",
    "print(len(valids))\n",
    "print(len(invalids))"
   ]
  }
 ],
 "metadata": {
  "kernelspec": {
   "display_name": "bis",
   "language": "python",
   "name": "python3"
  },
  "language_info": {
   "codemirror_mode": {
    "name": "ipython",
    "version": 3
   },
   "file_extension": ".py",
   "mimetype": "text/x-python",
   "name": "python",
   "nbconvert_exporter": "python",
   "pygments_lexer": "ipython3",
   "version": "3.8.5"
  }
 },
 "nbformat": 4,
 "nbformat_minor": 2
}
