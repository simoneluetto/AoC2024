{
 "cells": [
  {
   "cell_type": "code",
   "execution_count": null,
   "metadata": {},
   "outputs": [],
   "source": [
    "import numpy as np\n",
    "import tqdm"
   ]
  },
  {
   "cell_type": "code",
   "execution_count": null,
   "metadata": {},
   "outputs": [],
   "source": [
    "file = './14.txt'\n",
    "lines = open(file, 'r').readlines()\n",
    "lines = [l.strip('\\n') for l in lines]\n"
   ]
  },
  {
   "cell_type": "code",
   "execution_count": null,
   "metadata": {},
   "outputs": [],
   "source": [
    "robots = {}\n",
    "for i, line in enumerate(lines):\n",
    "    try:\n",
    "        vals = line.split(' ')\n",
    "        pos = vals[0].strip('p=').split(',')\n",
    "        pos = (int(pos[0]),int(pos[1]))\n",
    "        vel = vals[1].strip('v=').split(',')\n",
    "        vel = (int(vel[0]),int(vel[1]))\n",
    "        robots[i] = {'pos':pos,'vel':vel}\n",
    "    except:\n",
    "        print(line)\n",
    "    \n",
    "height = 103\n",
    "width = 101\n",
    "# space = np.zeros(height, width)\n",
    "print(robots)\n"
   ]
  },
  {
   "cell_type": "code",
   "execution_count": null,
   "metadata": {},
   "outputs": [],
   "source": [
    "poses = [robots[i]['pos'] for i in robots.keys()]\n",
    "vels = [robots[i]['vel'] for i in robots.keys()]\n",
    "for _ in range(100):\n",
    "    for i in range(len(poses)):\n",
    "        new_x = (poses[i][0]+vels[i][0])%width\n",
    "        new_y = (poses[i][1]+vels[i][1])%height\n",
    "        poses[i] = [new_x, new_y]\n",
    "\n",
    "quad1 = [p for p in poses if p[0]<int(width/2) and p[1]<int(height/2)]\n",
    "quad2 = [p for p in poses if p[0]>int(width/2) and p[1]<int(height/2)]\n",
    "quad3 = [p for p in poses if p[0]<int(width/2) and p[1]>int(height/2)]\n",
    "quad4 = [p for p in poses if p[0]>int(width/2) and p[1]>int(height/2)]\n",
    "print(len(poses))\n",
    "print(len(quad1), len(quad2), len(quad3), len(quad4))\n",
    "print(len(quad1)*len(quad2)*len(quad3)*len(quad4))"
   ]
  },
  {
   "cell_type": "code",
   "execution_count": null,
   "metadata": {},
   "outputs": [],
   "source": [
    "import logging\n",
    "import cv2\n",
    "np.set_printoptions(edgeitems=100, linewidth=1000)\n",
    "space = np.zeros((103,101), dtype=np.uint8)\n",
    "poses = [robots[i]['pos'] for i in robots.keys()]\n",
    "vels = [robots[i]['vel'] for i in robots.keys()]\n",
    "for step in range(10000):\n",
    "    space = np.zeros((103,101))\n",
    "    for i in range(len(poses)):\n",
    "        new_x = (poses[i][0]+vels[i][0])%width\n",
    "        new_y = (poses[i][1]+vels[i][1])%height\n",
    "        poses[i] = [new_x, new_y]\n",
    "        space[new_y,new_x]=1\n",
    "    res = cv2.connectedComponentsWithStats(space.astype(np.uint8))\n",
    "    # print(res[0], res[1].shape, res[2].shape, res[3].shape)\n",
    "    # print(res[2][1:,4].sum(), space.sum())\n",
    "    # assert False\n",
    "    if res[2][1:,4].max()>space.sum()/10:\n",
    "        print(f'\\n\\nSTEP : {step+1}, num comp : {res[0]}\\n')\n",
    "        print(space)"
   ]
  }
 ],
 "metadata": {
  "kernelspec": {
   "display_name": "bis",
   "language": "python",
   "name": "python3"
  },
  "language_info": {
   "codemirror_mode": {
    "name": "ipython",
    "version": 3
   },
   "file_extension": ".py",
   "mimetype": "text/x-python",
   "name": "python",
   "nbconvert_exporter": "python",
   "pygments_lexer": "ipython3",
   "version": "3.12.3"
  }
 },
 "nbformat": 4,
 "nbformat_minor": 2
}
