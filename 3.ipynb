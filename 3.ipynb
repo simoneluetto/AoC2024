{
 "cells": [
  {
   "cell_type": "code",
   "execution_count": null,
   "metadata": {},
   "outputs": [],
   "source": [
    "import numpy as np\n"
   ]
  },
  {
   "cell_type": "code",
   "execution_count": null,
   "metadata": {},
   "outputs": [],
   "source": [
    "file = './3.txt'\n",
    "lines = open(file, 'r').readlines()\n",
    "text = ''.join(lines)\n",
    "text"
   ]
  },
  {
   "cell_type": "code",
   "execution_count": null,
   "metadata": {},
   "outputs": [],
   "source": [
    "muls = text.split('mul')\n",
    "print(len(muls))\n",
    "muls = [m for m in muls if '(' in m and ',' in m and ')' in m]\n",
    "print(len(muls))\n",
    "muls = [m.split(')')[0] for m in muls]\n",
    "muls = [m[1:] for m in muls if m[0]=='(']\n",
    "print(len(muls))\n",
    "valid_muls = []\n",
    "for m in muls:\n",
    "    try:\n",
    "        n1, n2 = int(m.split(',')[0]), int(m.split(',')[1])\n",
    "        valid_muls.append((n1,n2))\n",
    "    except:\n",
    "        print(f'invalid {m}')\n",
    "print(len(valid_muls))\n",
    "vals = [m[0]*m[1] for m in valid_muls]\n",
    "print(sum(vals))"
   ]
  },
  {
   "cell_type": "code",
   "execution_count": null,
   "metadata": {},
   "outputs": [],
   "source": [
    "muls = text.split('mul')\n",
    "print(len(muls))\n",
    "enabled=True\n",
    "enabled_muls = []\n",
    "for m in muls:\n",
    "    if enabled:\n",
    "        enabled_muls.append(m)\n",
    "    if \"don't()\" in m:\n",
    "        enabled=False\n",
    "    if 'do()' in m:\n",
    "        enabled=True\n",
    "print(len(enabled_muls))\n",
    "enabled_muls = [m for m in enabled_muls if '(' in m and ',' in m and ')' in m]\n",
    "print(len(enabled_muls))\n",
    "enabled_muls = [m.split(')')[0] for m in enabled_muls]\n",
    "enabled_muls = [m[1:] for m in enabled_muls if m[0]=='(']\n",
    "print(len(enabled_muls))\n",
    "valid_muls = []\n",
    "for m in enabled_muls:\n",
    "    try:\n",
    "        n1, n2 = int(m.split(',')[0]), int(m.split(',')[1])\n",
    "        valid_muls.append((n1,n2))\n",
    "    except:\n",
    "        print(f'invalid {m}')\n",
    "print(len(valid_muls))\n",
    "vals = [m[0]*m[1] for m in valid_muls]\n",
    "print(sum(vals))"
   ]
  }
 ],
 "metadata": {
  "kernelspec": {
   "display_name": "bis",
   "language": "python",
   "name": "python3"
  },
  "language_info": {
   "codemirror_mode": {
    "name": "ipython",
    "version": 3
   },
   "file_extension": ".py",
   "mimetype": "text/x-python",
   "name": "python",
   "nbconvert_exporter": "python",
   "pygments_lexer": "ipython3",
   "version": "3.8.5"
  }
 },
 "nbformat": 4,
 "nbformat_minor": 2
}
