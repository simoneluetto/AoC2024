{
 "cells": [
  {
   "cell_type": "code",
   "execution_count": null,
   "metadata": {},
   "outputs": [],
   "source": [
    "import numpy as np\n",
    "import tqdm"
   ]
  },
  {
   "cell_type": "code",
   "execution_count": null,
   "metadata": {},
   "outputs": [],
   "source": [
    "file = './8.txt'\n",
    "lines = open(file, 'r').readlines()\n",
    "lines = [l.strip('\\n') for l in lines]\n"
   ]
  },
  {
   "cell_type": "code",
   "execution_count": null,
   "metadata": {},
   "outputs": [],
   "source": [
    "map = []\n",
    "frequencies = {\n",
    "    '.': 0,\n",
    "}\n",
    "\n",
    "for line in lines:\n",
    "    row=[]\n",
    "    for val in line:\n",
    "        if val not in frequencies:\n",
    "            frequencies[val] = len(frequencies)\n",
    "        row.append(frequencies[val])\n",
    "    map.append(row)\n",
    "\n",
    "map = np.array(map)\n",
    "print(map.shape)\n",
    "print(np.unique(map, return_counts=True))\n",
    "print(frequencies)\n"
   ]
  },
  {
   "cell_type": "code",
   "execution_count": null,
   "metadata": {},
   "outputs": [],
   "source": [
    "antinodes = np.zeros_like(map)\n",
    "\n",
    "for val in frequencies.values():\n",
    "    if val==0:\n",
    "        continue\n",
    "\n",
    "    antennas = np.argwhere(map==val)\n",
    "\n",
    "    for i, a1 in enumerate(antennas):\n",
    "        for a2 in antennas[i+1:]:\n",
    "            ant1_x = a1[0] + a1[0] - a2[0]\n",
    "            ant1_y = a1[1] + a1[1] - a2[1]\n",
    "            ant2_x = a2[0] + a2[0] - a1[0]\n",
    "            ant2_y = a2[1] + a2[1] - a1[1]\n",
    "\n",
    "            if ant1_x>=0 and ant1_y>=0 and ant1_x<map.shape[0] and ant1_y<map.shape[1]:\n",
    "                antinodes[ant1_x, ant1_y] = 1\n",
    "            if ant2_x>=0 and ant2_y>=0 and ant2_x<map.shape[0] and ant2_y<map.shape[1]:\n",
    "                antinodes[ant2_x, ant2_y] = 1\n",
    "\n",
    "np.unique(antinodes, return_counts=True)"
   ]
  },
  {
   "cell_type": "code",
   "execution_count": null,
   "metadata": {},
   "outputs": [],
   "source": [
    "antinodes = np.zeros_like(map)\n",
    "\n",
    "for val in frequencies.values():\n",
    "    if val==0:\n",
    "        continue\n",
    "\n",
    "    antennas = np.argwhere(map==val)\n",
    "\n",
    "    for i, a1 in enumerate(antennas):\n",
    "        for a2 in antennas[i+1:]:\n",
    "            added=True\n",
    "            d = 0\n",
    "            while added:\n",
    "                added = False\n",
    "                ant1_x = a1[0] + d*(a1[0] - a2[0])\n",
    "                ant1_y = a1[1] + d*(a1[1] - a2[1])\n",
    "                ant2_x = a2[0] + d*(a2[0] - a1[0])\n",
    "                ant2_y = a2[1] + d*(a2[1] - a1[1])\n",
    "                d += 1\n",
    "\n",
    "                if ant1_x>=0 and ant1_y>=0 and ant1_x<map.shape[0] and ant1_y<map.shape[1]:\n",
    "                    antinodes[ant1_x, ant1_y] = 1\n",
    "                    added=True\n",
    "                if ant2_x>=0 and ant2_y>=0 and ant2_x<map.shape[0] and ant2_y<map.shape[1]:\n",
    "                    antinodes[ant2_x, ant2_y] = 1\n",
    "                    added=True\n",
    "\n",
    "np.unique(antinodes, return_counts=True)"
   ]
  }
 ],
 "metadata": {
  "kernelspec": {
   "display_name": "bis",
   "language": "python",
   "name": "python3"
  },
  "language_info": {
   "codemirror_mode": {
    "name": "ipython",
    "version": 3
   },
   "file_extension": ".py",
   "mimetype": "text/x-python",
   "name": "python",
   "nbconvert_exporter": "python",
   "pygments_lexer": "ipython3",
   "version": "3.8.5"
  }
 },
 "nbformat": 4,
 "nbformat_minor": 2
}
