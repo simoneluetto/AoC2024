{
 "cells": [
  {
   "cell_type": "code",
   "execution_count": null,
   "metadata": {},
   "outputs": [],
   "source": [
    "import numpy as np\n",
    "import tqdm"
   ]
  },
  {
   "cell_type": "code",
   "execution_count": null,
   "metadata": {},
   "outputs": [],
   "source": [
    "file = './20.txt'\n",
    "lines = open(file, 'r').readlines()\n",
    "lines = [l.strip('\\n') for l in lines]\n"
   ]
  },
  {
   "cell_type": "code",
   "execution_count": null,
   "metadata": {},
   "outputs": [],
   "source": [
    "racemap = []\n",
    "mapping = {\n",
    "    '.':0,\n",
    "    '#':1,\n",
    "    'S':2,\n",
    "    'E':3\n",
    "}\n",
    "for line in lines:\n",
    "    values = [mapping[n] for n in line]\n",
    "    racemap.append(values)\n",
    "\n",
    "racemap = np.array(racemap)\n",
    "start_pos = np.argwhere(racemap==2)[0]\n",
    "end_pos = np.argwhere(racemap==3)[0]\n",
    "print(racemap.shape)\n",
    "print(racemap[:10,:10])\n",
    "print(start_pos, end_pos)\n"
   ]
  },
  {
   "cell_type": "code",
   "execution_count": null,
   "metadata": {},
   "outputs": [],
   "source": [
    "race_track = [(start_pos[0],start_pos[1])]\n",
    "ended=False\n",
    "n=0\n",
    "current_pos = start_pos\n",
    "points = np.argwhere(racemap!=1)\n",
    "points = [(p[0],p[1]) for p in points]\n",
    "ending = (end_pos[0],end_pos[1])\n",
    "while not ended and n<racemap.size:\n",
    "    n+=1\n",
    "    for pos in [\n",
    "        (current_pos[0]+1, current_pos[1]),\n",
    "        (current_pos[0]-1, current_pos[1]),\n",
    "        (current_pos[0], current_pos[1]+1),\n",
    "        (current_pos[0], current_pos[1]-1),\n",
    "    ]:\n",
    "        if pos in points and pos not in race_track:\n",
    "            race_track.append(pos)\n",
    "            current_pos = pos\n",
    "\n",
    "    if ending in race_track:\n",
    "        ended=True\n",
    "\n",
    "print(len(points))\n",
    "print(len(race_track))"
   ]
  },
  {
   "cell_type": "code",
   "execution_count": null,
   "metadata": {},
   "outputs": [],
   "source": [
    "print(race_track)"
   ]
  },
  {
   "cell_type": "code",
   "execution_count": null,
   "metadata": {},
   "outputs": [],
   "source": [
    "cheats = []\n",
    "for i, point_start in tqdm.tqdm(enumerate(race_track)):\n",
    "    for j in range(i+102, len(race_track)):\n",
    "        point_end = race_track[j]\n",
    "        # print(point_end, point_start)\n",
    "        if abs(point_end[1]-point_start[1])==2 and point_end[0]==point_start[0]:\n",
    "            cheats.append((\n",
    "                j-i-2, \n",
    "                (point_end[0],int((point_end[1]+point_start[1])/2)),\n",
    "                (point_end[0], point_end[1])\n",
    "                ))\n",
    "            # print(f'found cheat ({i}->{j}): {cheats[-1]}')\n",
    "        elif abs(point_end[0]-point_start[0])==2 and point_end[1]==point_start[1]:\n",
    "            cheats.append((\n",
    "                j-i-2, \n",
    "                (int((point_end[0]+point_start[0])/2),point_end[1]),\n",
    "                (point_end[0], point_end[1])\n",
    "                ))\n",
    "            # print(f'found cheat ({i}->{j}): {cheats[-1]}')\n",
    "            \n",
    "good_cheats = [c for c in cheats if c[0]>=100]\n",
    "print(len(good_cheats))"
   ]
  },
  {
   "cell_type": "code",
   "execution_count": null,
   "metadata": {},
   "outputs": [],
   "source": [
    "cheats = []\n",
    "for i, point_start in tqdm.tqdm(enumerate(race_track)):\n",
    "    for j in range(i+102, len(race_track)):\n",
    "        point_end = race_track[j]\n",
    "        # print(point_end, point_start)\n",
    "        dist = abs(point_end[1]-point_start[1])+(abs(point_end[0]-point_start[0]))\n",
    "        if (dist)<=20:\n",
    "            cheats.append((\n",
    "                j-i-dist, \n",
    "                (point_start[0], point_start[1]),\n",
    "                (point_end[0], point_end[1])\n",
    "                ))\n",
    "    \n",
    "good_cheats = [c for c in cheats if c[0]>=100]\n",
    "print(len(good_cheats))"
   ]
  }
 ],
 "metadata": {
  "kernelspec": {
   "display_name": "bis",
   "language": "python",
   "name": "python3"
  },
  "language_info": {
   "codemirror_mode": {
    "name": "ipython",
    "version": 3
   },
   "file_extension": ".py",
   "mimetype": "text/x-python",
   "name": "python",
   "nbconvert_exporter": "python",
   "pygments_lexer": "ipython3",
   "version": "3.12.3"
  }
 },
 "nbformat": 4,
 "nbformat_minor": 2
}
