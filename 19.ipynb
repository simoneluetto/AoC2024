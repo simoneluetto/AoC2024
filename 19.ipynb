{
 "cells": [
  {
   "cell_type": "code",
   "execution_count": null,
   "metadata": {},
   "outputs": [],
   "source": [
    "import numpy as np\n",
    "import tqdm"
   ]
  },
  {
   "cell_type": "code",
   "execution_count": null,
   "metadata": {},
   "outputs": [],
   "source": [
    "file = './19.txt'\n",
    "lines = open(file, 'r').readlines()\n",
    "lines = [l.strip('\\n') for l in lines]\n"
   ]
  },
  {
   "cell_type": "code",
   "execution_count": null,
   "metadata": {},
   "outputs": [],
   "source": [
    "towels = lines[0]\n",
    "towels = [s.strip(' ') for s in towels.split(',')]\n",
    "pattern_lines = lines[1:]\n",
    "patterns = []\n",
    "for line in pattern_lines:\n",
    "    if len(line)>2:\n",
    "        patterns.append(line.strip('\\n').strip(' '))\n",
    "\n",
    "print(len(towels))\n",
    "print(towels[:10])\n",
    "\n",
    "print(len(patterns))\n",
    "print(patterns[:10])\n"
   ]
  },
  {
   "cell_type": "code",
   "execution_count": null,
   "metadata": {},
   "outputs": [],
   "source": [
    "import sys\n",
    "from functools import cache\n",
    "\n",
    "@cache\n",
    "def is_possible(pattern, towels):\n",
    "    if len(pattern)==0:\n",
    "        return True\n",
    "    return any([\n",
    "        is_possible(pattern[len(towel):], towels)\n",
    "        for towel in towels if pattern.startswith(towel)\n",
    "        ])\n",
    "\n",
    "towels = tuple(towels)\n",
    "pos = [is_possible(pattern, towels) for pattern in patterns]\n",
    "print(sum(pos))\n"
   ]
  },
  {
   "cell_type": "code",
   "execution_count": null,
   "metadata": {},
   "outputs": [],
   "source": [
    "import sys\n",
    "from functools import cache\n",
    "\n",
    "@cache\n",
    "def num_patterns(pattern, towels):\n",
    "    if len(pattern)==0:\n",
    "        return 1\n",
    "    return sum([\n",
    "        num_patterns(pattern[len(towel):], towels)\n",
    "        for towel in towels if pattern.startswith(towel)\n",
    "    ])\n",
    "\n",
    "towels = tuple(towels)\n",
    "pos = [num_patterns(pattern, towels) for pattern in patterns]\n",
    "print(sum([p>0 for p in pos]))\n",
    "print(sum(pos))"
   ]
  }
 ],
 "metadata": {
  "kernelspec": {
   "display_name": "bis",
   "language": "python",
   "name": "python3"
  },
  "language_info": {
   "codemirror_mode": {
    "name": "ipython",
    "version": 3
   },
   "file_extension": ".py",
   "mimetype": "text/x-python",
   "name": "python",
   "nbconvert_exporter": "python",
   "pygments_lexer": "ipython3",
   "version": "3.12.3"
  }
 },
 "nbformat": 4,
 "nbformat_minor": 2
}
