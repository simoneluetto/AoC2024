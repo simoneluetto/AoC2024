{
 "cells": [
  {
   "cell_type": "code",
   "execution_count": null,
   "metadata": {},
   "outputs": [],
   "source": [
    "import numpy as np\n"
   ]
  },
  {
   "cell_type": "code",
   "execution_count": null,
   "metadata": {},
   "outputs": [],
   "source": [
    "file = './1.txt'\n",
    "lines = open(file, 'r').readlines()"
   ]
  },
  {
   "cell_type": "code",
   "execution_count": null,
   "metadata": {},
   "outputs": [],
   "source": [
    "l1 = [int(l.split(' ')[0]) for l in lines]\n",
    "l2 = [int(l.split(' ')[-1].strip('\\n')) for l in lines]\n",
    "\n",
    "l1 = sorted(l1)\n",
    "l2 = sorted(l2)\n",
    "\n",
    "d = [abs(n1-n2) for n1,n2 in zip(l1,l2)]\n",
    "print(sum(d))"
   ]
  },
  {
   "cell_type": "code",
   "execution_count": null,
   "metadata": {},
   "outputs": [],
   "source": [
    "from collections import Counter\n",
    "counts = Counter(l2)\n",
    "sim = 0\n",
    "for n in l1:\n",
    "    if n in counts:\n",
    "        sim += n*counts[n]\n",
    "sim"
   ]
  }
 ],
 "metadata": {
  "kernelspec": {
   "display_name": "bis",
   "language": "python",
   "name": "python3"
  },
  "language_info": {
   "codemirror_mode": {
    "name": "ipython",
    "version": 3
   },
   "file_extension": ".py",
   "mimetype": "text/x-python",
   "name": "python",
   "nbconvert_exporter": "python",
   "pygments_lexer": "ipython3",
   "version": "3.8.5"
  }
 },
 "nbformat": 4,
 "nbformat_minor": 2
}
