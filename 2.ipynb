{
 "cells": [
  {
   "cell_type": "code",
   "execution_count": null,
   "metadata": {},
   "outputs": [],
   "source": [
    "import numpy as np\n"
   ]
  },
  {
   "cell_type": "code",
   "execution_count": null,
   "metadata": {},
   "outputs": [],
   "source": [
    "file = './2.txt'\n",
    "lines = open(file, 'r').readlines()"
   ]
  },
  {
   "cell_type": "code",
   "execution_count": null,
   "metadata": {},
   "outputs": [],
   "source": [
    "ll = [np.array([int(e) for e in l.split(' ')]) for l in lines]\n",
    "\n",
    "diffs = [np.diff(l) for l in ll]\n",
    "\n",
    "def is_safe(d):\n",
    "    d_abs = np.abs(d)\n",
    "    if d_abs.max()<=3 and d_abs.min()>=1 and np.abs(d.sum())==d_abs.sum():\n",
    "        return 1\n",
    "    else:\n",
    "        return 0\n",
    "\n",
    "safes = [is_safe(diff) for diff in diffs]\n",
    "sum(safes)"
   ]
  },
  {
   "cell_type": "code",
   "execution_count": null,
   "metadata": {},
   "outputs": [],
   "source": [
    "ll = [np.array([int(e) for e in l.split(' ')]) for l in lines]\n",
    "\n",
    "diffs = [np.diff(l) for l in ll]\n",
    "\n",
    "def is_safe(d):\n",
    "    d_abs = np.abs(d)\n",
    "    if d_abs.max()<=3 and d_abs.min()>=1 and np.abs(d.sum())==d_abs.sum():\n",
    "        return 1\n",
    "    else:\n",
    "        return 0\n",
    "\n",
    "safes = [is_safe(diff) for diff in diffs]\n",
    "sum(safes)"
   ]
  },
  {
   "cell_type": "code",
   "execution_count": null,
   "metadata": {},
   "outputs": [],
   "source": [
    "ll = [[int(e) for e in l.split(' ')] for l in lines]\n",
    "l = ll[0]\n",
    "print(l)\n",
    "print(l.pop(3))"
   ]
  },
  {
   "cell_type": "code",
   "execution_count": null,
   "metadata": {},
   "outputs": [],
   "source": [
    "ll = [[int(e) for e in l.split(' ')] for l in lines]\n",
    "\n",
    "def is_safe(d):\n",
    "    d_abs = np.abs(d)\n",
    "    if d_abs.max()<=3 and d_abs.min()>=1 and np.abs(d.sum())==d_abs.sum():\n",
    "        return 1\n",
    "    else:\n",
    "        return 0\n",
    "def is_safe_one_removed(l):\n",
    "    all_subsets = [np.diff(l)]\n",
    "    for i in range(len(l)):\n",
    "        s = l.copy()\n",
    "        s.pop(i)\n",
    "        all_subsets.append(np.diff(s))\n",
    "    return max([is_safe(s) for s in all_subsets])\n",
    "\n",
    "safes = [is_safe_one_removed(l) for l in ll]\n",
    "sum(safes)"
   ]
  }
 ],
 "metadata": {
  "kernelspec": {
   "display_name": "bis",
   "language": "python",
   "name": "python3"
  },
  "language_info": {
   "codemirror_mode": {
    "name": "ipython",
    "version": 3
   },
   "file_extension": ".py",
   "mimetype": "text/x-python",
   "name": "python",
   "nbconvert_exporter": "python",
   "pygments_lexer": "ipython3",
   "version": "3.8.5"
  }
 },
 "nbformat": 4,
 "nbformat_minor": 2
}
