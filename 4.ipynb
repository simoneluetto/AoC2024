{
 "cells": [
  {
   "cell_type": "code",
   "execution_count": null,
   "metadata": {},
   "outputs": [],
   "source": [
    "import numpy as np\n",
    "import tqdm"
   ]
  },
  {
   "cell_type": "code",
   "execution_count": null,
   "metadata": {},
   "outputs": [],
   "source": [
    "file = './4.txt'\n",
    "lines = open(file, 'r').readlines()\n",
    "lines"
   ]
  },
  {
   "cell_type": "code",
   "execution_count": null,
   "metadata": {},
   "outputs": [],
   "source": [
    "matrix = np.array([[l for l in line.strip('\\n')] for line in lines])\n",
    "print(matrix.shape)"
   ]
  },
  {
   "cell_type": "code",
   "execution_count": null,
   "metadata": {},
   "outputs": [],
   "source": [
    "Xs = np.argwhere(matrix=='X')\n",
    "print(Xs.shape)\n",
    "count = 0\n",
    "for xi,xj in tqdm.tqdm(Xs):\n",
    "    for i in [-1,0,1]:\n",
    "        for j in [-1,0,1]:\n",
    "            if i==0 and j==0:\n",
    "                continue\n",
    "            mi = xi+i\n",
    "            mj = xj+j\n",
    "            ai = mi+i\n",
    "            aj = mj+j\n",
    "            si = ai+i\n",
    "            sj = aj+j\n",
    "            if si>=0 and sj >= 0 and si<=(matrix.shape[0]-1) and sj<=(matrix.shape[1]-1):\n",
    "                try:\n",
    "                    if matrix[mi,mj]=='M' and matrix[ai,aj]=='A' and matrix[si,sj]=='S' :\n",
    "                        count +=1\n",
    "                except:\n",
    "                    print(xi,i,mi,ai,si)\n",
    "                    print(xj,j,mj,aj,sj)\n",
    "print(count)"
   ]
  },
  {
   "cell_type": "code",
   "execution_count": null,
   "metadata": {},
   "outputs": [],
   "source": [
    "As = np.argwhere(matrix=='A')\n",
    "print(As.shape)\n",
    "count = 0\n",
    "for ai,aj in tqdm.tqdm(As):\n",
    "    if ai==0 or aj== 0 or ai==(matrix.shape[0]-1) or aj==(matrix.shape[1]-1):\n",
    "        continue\n",
    "    i1 = ai-1\n",
    "    i2 = ai+1\n",
    "    j1 = aj-1\n",
    "    j2 = aj+1\n",
    "\n",
    "    try:\n",
    "        ul = matrix[i1,j1]\n",
    "        ur = matrix[i2,j1]\n",
    "        bl = matrix[i1,j2]\n",
    "        br = matrix[i2,j2]\n",
    "\n",
    "        if ul=='M' and bl=='M' and ur=='S' and br=='S':\n",
    "            count +=1\n",
    "        if ul=='S' and bl=='S' and ur=='M' and br=='M':\n",
    "            count +=1\n",
    "        if ul=='M' and bl=='S' and ur=='M' and br=='S':\n",
    "            count +=1\n",
    "        if ul=='S' and bl=='M' and ur=='S' and br=='M':\n",
    "            count +=1\n",
    "    except:\n",
    "        print(ai,i1,i2)\n",
    "        print(aj,j1,j2)\n",
    "\n",
    "print(count)"
   ]
  },
  {
   "cell_type": "code",
   "execution_count": null,
   "metadata": {},
   "outputs": [],
   "source": []
  }
 ],
 "metadata": {
  "kernelspec": {
   "display_name": "bis",
   "language": "python",
   "name": "python3"
  },
  "language_info": {
   "codemirror_mode": {
    "name": "ipython",
    "version": 3
   },
   "file_extension": ".py",
   "mimetype": "text/x-python",
   "name": "python",
   "nbconvert_exporter": "python",
   "pygments_lexer": "ipython3",
   "version": "3.8.5"
  }
 },
 "nbformat": 4,
 "nbformat_minor": 2
}
